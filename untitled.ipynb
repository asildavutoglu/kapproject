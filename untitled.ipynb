{
  "cells": [
    {
      "cell_type": "markdown",
      "metadata": {
        "id": "view-in-github",
        "colab_type": "text"
      },
      "source": [
        "<a href=\"https://colab.research.google.com/github/asildavutoglu/kapproject/blob/main/untitled.ipynb\" target=\"_parent\"><img src=\"https://colab.research.google.com/assets/colab-badge.svg\" alt=\"Open In Colab\"/></a>"
      ]
    },
    {
      "cell_type": "code",
      "execution_count": null,
      "id": "a4c2f80a-c82a-4514-970e-792e567041c7",
      "metadata": {
        "id": "a4c2f80a-c82a-4514-970e-792e567041c7"
      },
      "outputs": [],
      "source": [
        "import requests\n",
        "import pandas as pd\n",
        "import json\n",
        "from datetime import datetime\n",
        "\n",
        "\n"
      ]
    },
    {
      "cell_type": "code",
      "execution_count": null,
      "id": "e9a764c4-5077-4bcc-9d81-a66c58c45eac",
      "metadata": {
        "id": "e9a764c4-5077-4bcc-9d81-a66c58c45eac"
      },
      "outputs": [],
      "source": [
        "url = \"https://www.kap.org.tr/tr/api/disclosures\""
      ]
    },
    {
      "cell_type": "code",
      "execution_count": null,
      "id": "02b95591-4b88-48e7-a0d0-26be3786080b",
      "metadata": {
        "id": "02b95591-4b88-48e7-a0d0-26be3786080b"
      },
      "outputs": [],
      "source": [
        "response = requests.get(url)\n"
      ]
    },
    {
      "cell_type": "code",
      "execution_count": null,
      "id": "d25ece62-9485-43cd-8cf3-e65c8e89e7b2",
      "metadata": {
        "id": "d25ece62-9485-43cd-8cf3-e65c8e89e7b2"
      },
      "outputs": [],
      "source": [
        "response_json = json.loads(response.text)\n"
      ]
    },
    {
      "cell_type": "code",
      "execution_count": null,
      "id": "5d710da1-323f-48ed-a953-c8250bc99cb3",
      "metadata": {
        "id": "5d710da1-323f-48ed-a953-c8250bc99cb3"
      },
      "outputs": [],
      "source": [
        "df = pd.DataFrame(columns=[\"DisclosureId\",\"disclosureIndex\" ,\"disclosureClass\",\"disclosureType\",\"disclosureCategory\",\"title\",\"publishDate\",\"companyId\",\"companyName\",\"stockCodes\",\"summary\",\"relatedStocks\",\"attachmentCount\",])\n",
        "df1 = pd.DataFrame(columns=[\"DisclosureId\",\"disclosureIndex\" ,\"disclosureClass\",\"disclosureType\",\"disclosureCategory\",\"title\",\"publishDate\",\"companyId\",\"companyName\",\"stockCodes\",\"relatedStocks\",\"attachmentCount\",])"
      ]
    },
    {
      "cell_type": "code",
      "execution_count": null,
      "id": "2339d847-0784-4d78-ac93-27e4e3d7889d",
      "metadata": {
        "id": "2339d847-0784-4d78-ac93-27e4e3d7889d"
      },
      "outputs": [],
      "source": [
        "for i in range( 0,len(response_json)):\n",
        "    try:\n",
        "        currenItem = response_json[i]\n",
        "        df.loc[i] = [response_json[i]['basic'][\"disclosureId\"],response_json[i]['basic'][\"disclosureIndex\"],response_json[i]['basic'][\"disclosureClass\"],response_json[i]['basic'][\"disclosureType\"],response_json[i]['basic'][\"disclosureCategory\"],response_json[i]['basic'][\"title\"],response_json[i]['basic'][\"publishDate\"],response_json[i]['basic'][\"companyId\"],response_json[i]['basic'][\"companyName\"],response_json[i]['basic'][\"stockCodes\"],response_json[i]['basic'][\"summary\"],response_json[i]['basic'][\"relatedStocks\"],response_json[i]['basic'][\"attachmentCount\"]]\n",
        "    except:\n",
        "        df1.loc[i] = [response_json[i]['basic'][\"disclosureId\"],response_json[i]['basic'][\"disclosureIndex\"],response_json[i]['basic'][\"disclosureClass\"],response_json[i]['basic'][\"disclosureType\"],response_json[i]['basic'][\"disclosureCategory\"],response_json[i]['basic'][\"title\"],response_json[i]['basic'][\"publishDate\"],response_json[i]['basic'][\"companyId\"],response_json[i]['basic'][\"companyName\"],response_json[i]['basic'][\"stockCodes\"],response_json[i]['basic'][\"relatedStocks\"],response_json[i]['basic'][\"attachmentCount\"]]\n",
        "\n",
        "\n"
      ]
    },
    {
      "cell_type": "code",
      "execution_count": null,
      "id": "1996e4ca-39b0-441c-968c-1a719de74c36",
      "metadata": {
        "id": "1996e4ca-39b0-441c-968c-1a719de74c36"
      },
      "outputs": [],
      "source": [
        "df2 = pd.concat([df,df1],\n",
        "        axis=0,\n",
        "                ignore_index=True)"
      ]
    },
    {
      "cell_type": "code",
      "execution_count": null,
      "id": "0a69e41a-15a0-417d-9ba9-c0969078748f",
      "metadata": {
        "id": "0a69e41a-15a0-417d-9ba9-c0969078748f"
      },
      "outputs": [],
      "source": [
        "current_date = datetime.now().strftime('%Y-%m-%d-%H')\n",
        "file_name = f'output_{current_date}.xlsx'\n",
        "\n",
        "\n"
      ]
    },
    {
      "cell_type": "code",
      "execution_count": null,
      "id": "b9e3a1ad-a80c-4d0d-a897-90668e2f7297",
      "metadata": {
        "id": "b9e3a1ad-a80c-4d0d-a897-90668e2f7297"
      },
      "outputs": [],
      "source": [
        "df2.to_excel(file_name, index=False)\n"
      ]
    }
  ],
  "metadata": {
    "kernelspec": {
      "display_name": "Python 3",
      "name": "python3"
    },
    "language_info": {
      "codemirror_mode": {
        "name": "ipython",
        "version": 3
      },
      "file_extension": ".py",
      "mimetype": "text/x-python",
      "name": "python",
      "nbconvert_exporter": "python",
      "pygments_lexer": "ipython3",
      "version": "3.11.7"
    },
    "colab": {
      "provenance": [],
      "include_colab_link": true
    }
  },
  "nbformat": 4,
  "nbformat_minor": 5
}